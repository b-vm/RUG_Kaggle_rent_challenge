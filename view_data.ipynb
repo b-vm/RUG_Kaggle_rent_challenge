{
 "cells": [
  {
   "cell_type": "code",
   "execution_count": 8,
   "metadata": {},
   "outputs": [
    {
     "data": {
      "text/plain": [
       "id\n",
       "30010       1\n",
       "22154       1\n",
       "2903        1\n",
       "9255        1\n",
       "6330        1\n",
       "         ... \n",
       "43118    4950\n",
       "3704     5000\n",
       "1450     5000\n",
       "36620    5700\n",
       "31590    5999\n",
       "Name: rent, Length: 27915, dtype: int64"
      ]
     },
     "execution_count": 8,
     "metadata": {},
     "output_type": "execute_result"
    }
   ],
   "source": [
    "import pandas as pd\n",
    "\n",
    "column_name = \"rent\"\n",
    "\n",
    "df = pd.read_csv(\"./data/train.csv\", index_col=\"id\")\n",
    "\n",
    "df = df.sort_values(column_name)[column_name]\n",
    "\n",
    "df.hist(bins=1000)\n",
    "    "
   ]
  }
 ],
 "metadata": {
  "kernelspec": {
   "display_name": "Python 3.9.6 64-bit ('3.9.6')",
   "language": "python",
   "name": "python3"
  },
  "language_info": {
   "codemirror_mode": {
    "name": "ipython",
    "version": 3
   },
   "file_extension": ".py",
   "mimetype": "text/x-python",
   "name": "python",
   "nbconvert_exporter": "python",
   "pygments_lexer": "ipython3",
   "version": "3.9.6"
  },
  "orig_nbformat": 4,
  "vscode": {
   "interpreter": {
    "hash": "c96cc930f7f84b4e92dec4fd5e3a60ab08568fa089b46c22b69749e06094a1b6"
   }
  }
 },
 "nbformat": 4,
 "nbformat_minor": 2
}
