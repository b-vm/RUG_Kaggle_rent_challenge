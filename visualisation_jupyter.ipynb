{
 "cells": [
  {
   "cell_type": "code",
   "execution_count": 2,
   "metadata": {},
   "outputs": [],
   "source": [
    "import altair as alt\n",
    "import pandas as pd\n",
    "import numpy as np\n",
    "\n",
    "filename=\"./data/train.csv\"\n",
    "df = pd.read_csv(filename, index_col=\"id\")\n",
    "\n"
   ]
  },
  {
   "cell_type": "code",
   "execution_count": 5,
   "metadata": {},
   "outputs": [
    {
     "ename": "ValueError",
     "evalue": "area_sqm encoding field is specified without a type; the type cannot be inferred because it does not match any column in the data.",
     "output_type": "error",
     "traceback": [
      "\u001b[1;31m---------------------------------------------------------------------------\u001b[0m",
      "\u001b[1;31mValueError\u001b[0m                                Traceback (most recent call last)",
      "File \u001b[1;32mc:\\Users\\Ivo\\.pyenv\\pyenv-win\\versions\\3.9.6\\lib\\site-packages\\altair\\vegalite\\v4\\api.py:2020\u001b[0m, in \u001b[0;36mChart.to_dict\u001b[1;34m(self, *args, **kwargs)\u001b[0m\n\u001b[0;32m   2018\u001b[0m     copy\u001b[39m.\u001b[39mdata \u001b[39m=\u001b[39m core\u001b[39m.\u001b[39mInlineData(values\u001b[39m=\u001b[39m[{}])\n\u001b[0;32m   2019\u001b[0m     \u001b[39mreturn\u001b[39;00m \u001b[39msuper\u001b[39m(Chart, copy)\u001b[39m.\u001b[39mto_dict(\u001b[39m*\u001b[39margs, \u001b[39m*\u001b[39m\u001b[39m*\u001b[39mkwargs)\n\u001b[1;32m-> 2020\u001b[0m \u001b[39mreturn\u001b[39;00m \u001b[39msuper\u001b[39m()\u001b[39m.\u001b[39mto_dict(\u001b[39m*\u001b[39margs, \u001b[39m*\u001b[39m\u001b[39m*\u001b[39mkwargs)\n",
      "File \u001b[1;32mc:\\Users\\Ivo\\.pyenv\\pyenv-win\\versions\\3.9.6\\lib\\site-packages\\altair\\vegalite\\v4\\api.py:384\u001b[0m, in \u001b[0;36mTopLevelMixin.to_dict\u001b[1;34m(self, *args, **kwargs)\u001b[0m\n\u001b[0;32m    381\u001b[0m kwargs[\u001b[39m\"\u001b[39m\u001b[39mcontext\u001b[39m\u001b[39m\"\u001b[39m] \u001b[39m=\u001b[39m context\n\u001b[0;32m    383\u001b[0m \u001b[39mtry\u001b[39;00m:\n\u001b[1;32m--> 384\u001b[0m     dct \u001b[39m=\u001b[39m \u001b[39msuper\u001b[39m(TopLevelMixin, copy)\u001b[39m.\u001b[39mto_dict(\u001b[39m*\u001b[39margs, \u001b[39m*\u001b[39m\u001b[39m*\u001b[39mkwargs)\n\u001b[0;32m    385\u001b[0m \u001b[39mexcept\u001b[39;00m jsonschema\u001b[39m.\u001b[39mValidationError:\n\u001b[0;32m    386\u001b[0m     dct \u001b[39m=\u001b[39m \u001b[39mNone\u001b[39;00m\n",
      "File \u001b[1;32mc:\\Users\\Ivo\\.pyenv\\pyenv-win\\versions\\3.9.6\\lib\\site-packages\\altair\\utils\\schemapi.py:326\u001b[0m, in \u001b[0;36mSchemaBase.to_dict\u001b[1;34m(self, validate, ignore, context)\u001b[0m\n\u001b[0;32m    324\u001b[0m     result \u001b[39m=\u001b[39m _todict(\u001b[39mself\u001b[39m\u001b[39m.\u001b[39m_args[\u001b[39m0\u001b[39m], validate\u001b[39m=\u001b[39msub_validate, context\u001b[39m=\u001b[39mcontext)\n\u001b[0;32m    325\u001b[0m \u001b[39melif\u001b[39;00m \u001b[39mnot\u001b[39;00m \u001b[39mself\u001b[39m\u001b[39m.\u001b[39m_args:\n\u001b[1;32m--> 326\u001b[0m     result \u001b[39m=\u001b[39m _todict(\n\u001b[0;32m    327\u001b[0m         {k: v \u001b[39mfor\u001b[39;49;00m k, v \u001b[39min\u001b[39;49;00m \u001b[39mself\u001b[39;49m\u001b[39m.\u001b[39;49m_kwds\u001b[39m.\u001b[39;49mitems() \u001b[39mif\u001b[39;49;00m k \u001b[39mnot\u001b[39;49;00m \u001b[39min\u001b[39;49;00m ignore},\n\u001b[0;32m    328\u001b[0m         validate\u001b[39m=\u001b[39;49msub_validate,\n\u001b[0;32m    329\u001b[0m         context\u001b[39m=\u001b[39;49mcontext,\n\u001b[0;32m    330\u001b[0m     )\n\u001b[0;32m    331\u001b[0m \u001b[39melse\u001b[39;00m:\n\u001b[0;32m    332\u001b[0m     \u001b[39mraise\u001b[39;00m \u001b[39mValueError\u001b[39;00m(\n\u001b[0;32m    333\u001b[0m         \u001b[39m\"\u001b[39m\u001b[39m{}\u001b[39;00m\u001b[39m instance has both a value and properties : \u001b[39m\u001b[39m\"\u001b[39m\n\u001b[0;32m    334\u001b[0m         \u001b[39m\"\u001b[39m\u001b[39mcannot serialize to dict\u001b[39m\u001b[39m\"\u001b[39m\u001b[39m.\u001b[39mformat(\u001b[39mself\u001b[39m\u001b[39m.\u001b[39m\u001b[39m__class__\u001b[39m)\n\u001b[0;32m    335\u001b[0m     )\n",
      "File \u001b[1;32mc:\\Users\\Ivo\\.pyenv\\pyenv-win\\versions\\3.9.6\\lib\\site-packages\\altair\\utils\\schemapi.py:60\u001b[0m, in \u001b[0;36m_todict\u001b[1;34m(obj, validate, context)\u001b[0m\n\u001b[0;32m     58\u001b[0m     \u001b[39mreturn\u001b[39;00m [_todict(v, validate, context) \u001b[39mfor\u001b[39;00m v \u001b[39min\u001b[39;00m obj]\n\u001b[0;32m     59\u001b[0m \u001b[39melif\u001b[39;00m \u001b[39misinstance\u001b[39m(obj, \u001b[39mdict\u001b[39m):\n\u001b[1;32m---> 60\u001b[0m     \u001b[39mreturn\u001b[39;00m {\n\u001b[0;32m     61\u001b[0m         k: _todict(v, validate, context)\n\u001b[0;32m     62\u001b[0m         \u001b[39mfor\u001b[39;00m k, v \u001b[39min\u001b[39;00m obj\u001b[39m.\u001b[39mitems()\n\u001b[0;32m     63\u001b[0m         \u001b[39mif\u001b[39;00m v \u001b[39mis\u001b[39;00m \u001b[39mnot\u001b[39;00m Undefined\n\u001b[0;32m     64\u001b[0m     }\n\u001b[0;32m     65\u001b[0m \u001b[39melif\u001b[39;00m \u001b[39mhasattr\u001b[39m(obj, \u001b[39m\"\u001b[39m\u001b[39mto_dict\u001b[39m\u001b[39m\"\u001b[39m):\n\u001b[0;32m     66\u001b[0m     \u001b[39mreturn\u001b[39;00m obj\u001b[39m.\u001b[39mto_dict()\n",
      "File \u001b[1;32mc:\\Users\\Ivo\\.pyenv\\pyenv-win\\versions\\3.9.6\\lib\\site-packages\\altair\\utils\\schemapi.py:61\u001b[0m, in \u001b[0;36m<dictcomp>\u001b[1;34m(.0)\u001b[0m\n\u001b[0;32m     58\u001b[0m     \u001b[39mreturn\u001b[39;00m [_todict(v, validate, context) \u001b[39mfor\u001b[39;00m v \u001b[39min\u001b[39;00m obj]\n\u001b[0;32m     59\u001b[0m \u001b[39melif\u001b[39;00m \u001b[39misinstance\u001b[39m(obj, \u001b[39mdict\u001b[39m):\n\u001b[0;32m     60\u001b[0m     \u001b[39mreturn\u001b[39;00m {\n\u001b[1;32m---> 61\u001b[0m         k: _todict(v, validate, context)\n\u001b[0;32m     62\u001b[0m         \u001b[39mfor\u001b[39;00m k, v \u001b[39min\u001b[39;00m obj\u001b[39m.\u001b[39mitems()\n\u001b[0;32m     63\u001b[0m         \u001b[39mif\u001b[39;00m v \u001b[39mis\u001b[39;00m \u001b[39mnot\u001b[39;00m Undefined\n\u001b[0;32m     64\u001b[0m     }\n\u001b[0;32m     65\u001b[0m \u001b[39melif\u001b[39;00m \u001b[39mhasattr\u001b[39m(obj, \u001b[39m\"\u001b[39m\u001b[39mto_dict\u001b[39m\u001b[39m\"\u001b[39m):\n\u001b[0;32m     66\u001b[0m     \u001b[39mreturn\u001b[39;00m obj\u001b[39m.\u001b[39mto_dict()\n",
      "File \u001b[1;32mc:\\Users\\Ivo\\.pyenv\\pyenv-win\\versions\\3.9.6\\lib\\site-packages\\altair\\utils\\schemapi.py:56\u001b[0m, in \u001b[0;36m_todict\u001b[1;34m(obj, validate, context)\u001b[0m\n\u001b[0;32m     54\u001b[0m \u001b[39m\"\"\"Convert an object to a dict representation.\"\"\"\u001b[39;00m\n\u001b[0;32m     55\u001b[0m \u001b[39mif\u001b[39;00m \u001b[39misinstance\u001b[39m(obj, SchemaBase):\n\u001b[1;32m---> 56\u001b[0m     \u001b[39mreturn\u001b[39;00m obj\u001b[39m.\u001b[39;49mto_dict(validate\u001b[39m=\u001b[39;49mvalidate, context\u001b[39m=\u001b[39;49mcontext)\n\u001b[0;32m     57\u001b[0m \u001b[39melif\u001b[39;00m \u001b[39misinstance\u001b[39m(obj, (\u001b[39mlist\u001b[39m, \u001b[39mtuple\u001b[39m, np\u001b[39m.\u001b[39mndarray)):\n\u001b[0;32m     58\u001b[0m     \u001b[39mreturn\u001b[39;00m [_todict(v, validate, context) \u001b[39mfor\u001b[39;00m v \u001b[39min\u001b[39;00m obj]\n",
      "File \u001b[1;32mc:\\Users\\Ivo\\.pyenv\\pyenv-win\\versions\\3.9.6\\lib\\site-packages\\altair\\utils\\schemapi.py:326\u001b[0m, in \u001b[0;36mSchemaBase.to_dict\u001b[1;34m(self, validate, ignore, context)\u001b[0m\n\u001b[0;32m    324\u001b[0m     result \u001b[39m=\u001b[39m _todict(\u001b[39mself\u001b[39m\u001b[39m.\u001b[39m_args[\u001b[39m0\u001b[39m], validate\u001b[39m=\u001b[39msub_validate, context\u001b[39m=\u001b[39mcontext)\n\u001b[0;32m    325\u001b[0m \u001b[39melif\u001b[39;00m \u001b[39mnot\u001b[39;00m \u001b[39mself\u001b[39m\u001b[39m.\u001b[39m_args:\n\u001b[1;32m--> 326\u001b[0m     result \u001b[39m=\u001b[39m _todict(\n\u001b[0;32m    327\u001b[0m         {k: v \u001b[39mfor\u001b[39;49;00m k, v \u001b[39min\u001b[39;49;00m \u001b[39mself\u001b[39;49m\u001b[39m.\u001b[39;49m_kwds\u001b[39m.\u001b[39;49mitems() \u001b[39mif\u001b[39;49;00m k \u001b[39mnot\u001b[39;49;00m \u001b[39min\u001b[39;49;00m ignore},\n\u001b[0;32m    328\u001b[0m         validate\u001b[39m=\u001b[39;49msub_validate,\n\u001b[0;32m    329\u001b[0m         context\u001b[39m=\u001b[39;49mcontext,\n\u001b[0;32m    330\u001b[0m     )\n\u001b[0;32m    331\u001b[0m \u001b[39melse\u001b[39;00m:\n\u001b[0;32m    332\u001b[0m     \u001b[39mraise\u001b[39;00m \u001b[39mValueError\u001b[39;00m(\n\u001b[0;32m    333\u001b[0m         \u001b[39m\"\u001b[39m\u001b[39m{}\u001b[39;00m\u001b[39m instance has both a value and properties : \u001b[39m\u001b[39m\"\u001b[39m\n\u001b[0;32m    334\u001b[0m         \u001b[39m\"\u001b[39m\u001b[39mcannot serialize to dict\u001b[39m\u001b[39m\"\u001b[39m\u001b[39m.\u001b[39mformat(\u001b[39mself\u001b[39m\u001b[39m.\u001b[39m\u001b[39m__class__\u001b[39m)\n\u001b[0;32m    335\u001b[0m     )\n",
      "File \u001b[1;32mc:\\Users\\Ivo\\.pyenv\\pyenv-win\\versions\\3.9.6\\lib\\site-packages\\altair\\utils\\schemapi.py:60\u001b[0m, in \u001b[0;36m_todict\u001b[1;34m(obj, validate, context)\u001b[0m\n\u001b[0;32m     58\u001b[0m     \u001b[39mreturn\u001b[39;00m [_todict(v, validate, context) \u001b[39mfor\u001b[39;00m v \u001b[39min\u001b[39;00m obj]\n\u001b[0;32m     59\u001b[0m \u001b[39melif\u001b[39;00m \u001b[39misinstance\u001b[39m(obj, \u001b[39mdict\u001b[39m):\n\u001b[1;32m---> 60\u001b[0m     \u001b[39mreturn\u001b[39;00m {\n\u001b[0;32m     61\u001b[0m         k: _todict(v, validate, context)\n\u001b[0;32m     62\u001b[0m         \u001b[39mfor\u001b[39;00m k, v \u001b[39min\u001b[39;00m obj\u001b[39m.\u001b[39mitems()\n\u001b[0;32m     63\u001b[0m         \u001b[39mif\u001b[39;00m v \u001b[39mis\u001b[39;00m \u001b[39mnot\u001b[39;00m Undefined\n\u001b[0;32m     64\u001b[0m     }\n\u001b[0;32m     65\u001b[0m \u001b[39melif\u001b[39;00m \u001b[39mhasattr\u001b[39m(obj, \u001b[39m\"\u001b[39m\u001b[39mto_dict\u001b[39m\u001b[39m\"\u001b[39m):\n\u001b[0;32m     66\u001b[0m     \u001b[39mreturn\u001b[39;00m obj\u001b[39m.\u001b[39mto_dict()\n",
      "File \u001b[1;32mc:\\Users\\Ivo\\.pyenv\\pyenv-win\\versions\\3.9.6\\lib\\site-packages\\altair\\utils\\schemapi.py:61\u001b[0m, in \u001b[0;36m<dictcomp>\u001b[1;34m(.0)\u001b[0m\n\u001b[0;32m     58\u001b[0m     \u001b[39mreturn\u001b[39;00m [_todict(v, validate, context) \u001b[39mfor\u001b[39;00m v \u001b[39min\u001b[39;00m obj]\n\u001b[0;32m     59\u001b[0m \u001b[39melif\u001b[39;00m \u001b[39misinstance\u001b[39m(obj, \u001b[39mdict\u001b[39m):\n\u001b[0;32m     60\u001b[0m     \u001b[39mreturn\u001b[39;00m {\n\u001b[1;32m---> 61\u001b[0m         k: _todict(v, validate, context)\n\u001b[0;32m     62\u001b[0m         \u001b[39mfor\u001b[39;00m k, v \u001b[39min\u001b[39;00m obj\u001b[39m.\u001b[39mitems()\n\u001b[0;32m     63\u001b[0m         \u001b[39mif\u001b[39;00m v \u001b[39mis\u001b[39;00m \u001b[39mnot\u001b[39;00m Undefined\n\u001b[0;32m     64\u001b[0m     }\n\u001b[0;32m     65\u001b[0m \u001b[39melif\u001b[39;00m \u001b[39mhasattr\u001b[39m(obj, \u001b[39m\"\u001b[39m\u001b[39mto_dict\u001b[39m\u001b[39m\"\u001b[39m):\n\u001b[0;32m     66\u001b[0m     \u001b[39mreturn\u001b[39;00m obj\u001b[39m.\u001b[39mto_dict()\n",
      "File \u001b[1;32mc:\\Users\\Ivo\\.pyenv\\pyenv-win\\versions\\3.9.6\\lib\\site-packages\\altair\\utils\\schemapi.py:56\u001b[0m, in \u001b[0;36m_todict\u001b[1;34m(obj, validate, context)\u001b[0m\n\u001b[0;32m     54\u001b[0m \u001b[39m\"\"\"Convert an object to a dict representation.\"\"\"\u001b[39;00m\n\u001b[0;32m     55\u001b[0m \u001b[39mif\u001b[39;00m \u001b[39misinstance\u001b[39m(obj, SchemaBase):\n\u001b[1;32m---> 56\u001b[0m     \u001b[39mreturn\u001b[39;00m obj\u001b[39m.\u001b[39;49mto_dict(validate\u001b[39m=\u001b[39;49mvalidate, context\u001b[39m=\u001b[39;49mcontext)\n\u001b[0;32m     57\u001b[0m \u001b[39melif\u001b[39;00m \u001b[39misinstance\u001b[39m(obj, (\u001b[39mlist\u001b[39m, \u001b[39mtuple\u001b[39m, np\u001b[39m.\u001b[39mndarray)):\n\u001b[0;32m     58\u001b[0m     \u001b[39mreturn\u001b[39;00m [_todict(v, validate, context) \u001b[39mfor\u001b[39;00m v \u001b[39min\u001b[39;00m obj]\n",
      "File \u001b[1;32mc:\\Users\\Ivo\\.pyenv\\pyenv-win\\versions\\3.9.6\\lib\\site-packages\\altair\\vegalite\\v4\\schema\\channels.py:40\u001b[0m, in \u001b[0;36mFieldChannelMixin.to_dict\u001b[1;34m(self, validate, ignore, context)\u001b[0m\n\u001b[0;32m     38\u001b[0m \u001b[39melif\u001b[39;00m \u001b[39mnot\u001b[39;00m (type_in_shorthand \u001b[39mor\u001b[39;00m type_defined_explicitly):\n\u001b[0;32m     39\u001b[0m     \u001b[39mif\u001b[39;00m \u001b[39misinstance\u001b[39m(context\u001b[39m.\u001b[39mget(\u001b[39m'\u001b[39m\u001b[39mdata\u001b[39m\u001b[39m'\u001b[39m, \u001b[39mNone\u001b[39;00m), pd\u001b[39m.\u001b[39mDataFrame):\n\u001b[1;32m---> 40\u001b[0m         \u001b[39mraise\u001b[39;00m \u001b[39mValueError\u001b[39;00m(\u001b[39m\"\u001b[39m\u001b[39m{}\u001b[39;00m\u001b[39m encoding field is specified without a type; \u001b[39m\u001b[39m\"\u001b[39m\n\u001b[0;32m     41\u001b[0m                          \u001b[39m\"\u001b[39m\u001b[39mthe type cannot be inferred because it does not \u001b[39m\u001b[39m\"\u001b[39m\n\u001b[0;32m     42\u001b[0m                          \u001b[39m\"\u001b[39m\u001b[39mmatch any column in the data.\u001b[39m\u001b[39m\"\u001b[39m\u001b[39m.\u001b[39mformat(shorthand))\n\u001b[0;32m     43\u001b[0m     \u001b[39melse\u001b[39;00m:\n\u001b[0;32m     44\u001b[0m         \u001b[39mraise\u001b[39;00m \u001b[39mValueError\u001b[39;00m(\u001b[39m\"\u001b[39m\u001b[39m{}\u001b[39;00m\u001b[39m encoding field is specified without a type; \u001b[39m\u001b[39m\"\u001b[39m\n\u001b[0;32m     45\u001b[0m                          \u001b[39m\"\u001b[39m\u001b[39mthe type cannot be automatically inferred because \u001b[39m\u001b[39m\"\u001b[39m\n\u001b[0;32m     46\u001b[0m                          \u001b[39m\"\u001b[39m\u001b[39mthe data is not specified as a pandas.DataFrame.\u001b[39m\u001b[39m\"\u001b[39m\n\u001b[0;32m     47\u001b[0m                          \u001b[39m\"\u001b[39m\u001b[39m\"\u001b[39m\u001b[39m.\u001b[39mformat(shorthand))\n",
      "\u001b[1;31mValueError\u001b[0m: area_sqm encoding field is specified without a type; the type cannot be inferred because it does not match any column in the data."
     ]
    },
    {
     "data": {
      "text/plain": [
       "alt.Chart(...)"
      ]
     },
     "execution_count": 5,
     "metadata": {},
     "output_type": "execute_result"
    }
   ],
   "source": [
    "df = df.sample(n = 4000)\n",
    "\n",
    "alt.Chart(df).mark_point().encode(\n",
    "    x=\"area_sqm\",\n",
    "    y=\"rent\",\n",
    "    color=\"city\",\n",
    ").interactive()"
   ]
  }
 ],
 "metadata": {
  "kernelspec": {
   "display_name": "Python 3.9.6 64-bit ('3.9.6')",
   "language": "python",
   "name": "python3"
  },
  "language_info": {
   "codemirror_mode": {
    "name": "ipython",
    "version": 3
   },
   "file_extension": ".py",
   "mimetype": "text/x-python",
   "name": "python",
   "nbconvert_exporter": "python",
   "pygments_lexer": "ipython3",
   "version": "3.9.6"
  },
  "orig_nbformat": 4,
  "vscode": {
   "interpreter": {
    "hash": "c96cc930f7f84b4e92dec4fd5e3a60ab08568fa089b46c22b69749e06094a1b6"
   }
  }
 },
 "nbformat": 4,
 "nbformat_minor": 2
}
